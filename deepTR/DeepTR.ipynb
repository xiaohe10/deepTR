{
 "cells": [
  {
   "cell_type": "code",
   "execution_count": null,
   "metadata": {
    "collapsed": false
   },
   "outputs": [
    {
     "name": "stdout",
     "output_type": "stream",
     "text": [
      "loading stopwords\n",
      "loading word2vector model, it takes about two minutes ...\n",
      "word2vector model loaded\n"
     ]
    }
   ],
   "source": [
    "# import trained model\n",
    "from DeepTR_run import *\n",
    "print \"loading stopwords\"\n",
    "stopwords = loadStopWords('input/stopword.in')\n",
    "print \"loading word2vector model, it takes about two minutes ...\"\n",
    "model =  gensim.models.Word2Vec.load_word2vec_format('lib/word2vec/models/GoogleNews-vectors-negative300-1.bin',binary=True)\n",
    "print \"word2vector model loaded\"\n",
    "\n",
    "# It takes about two minutes to load the word2vector model of GoogleNews, So please wait for this Cell finished"
   ]
  },
  {
   "cell_type": "code",
   "execution_count": null,
   "metadata": {
    "collapsed": false
   },
   "outputs": [],
   "source": [
    "# load the DeepTR model B, use B to reweight a query, In the bottom are some query examples\n",
    "B = loadDeepTRModel(\"output/1000000_alphais_0.in\")\n",
    "# print exit to end this cell\n",
    "while(True):\n",
    "        query = raw_input(\"query:\")\n",
    "        if(query == \"exit\"): break\n",
    "        items = query.split(\" \")\n",
    "        terms = []\n",
    "        w = []\n",
    "        for item in items:\n",
    "            try:\n",
    "                if(item in stopwords):\n",
    "                    continue\n",
    "                w.append(model[item])\n",
    "                terms.append(item)\n",
    "            except KeyError:\n",
    "                # print \"key Error\", term, wordInAnswer\n",
    "                pass\n",
    "        if (len(w) > 0):\n",
    "            num = len(w)\n",
    "            p = len(w[0])\n",
    "            w_avarage = [0 for n in range(p)]\n",
    "            for wi in w:\n",
    "                for j in range(p):\n",
    "                    w_avarage[j] += wi[j] / num\n",
    "\n",
    "            for j in range(len(w)):\n",
    "                for k in range(p):\n",
    "                    w[j][k] -= w_avarage[k]\n",
    "            # get term weighthow many cigarettes per pack\n",
    "            for i in range(len(w)):\n",
    "                p = len(w[0])\n",
    "                weight = 0\n",
    "                for j in range(p):\n",
    "                    weight += w[i][j] * B[j]\n",
    "                print terms[i], \":\", sigmoid(weight)\n",
    "        else:\n",
    "            print \"no valid term\"\n",
    "# Query examples:\n",
    "'''\n",
    "how big is a baby hammerhead shark\n",
    "girls that committed suicide over bullying\n",
    "what is the worst city in florida\n",
    "when did the iphone launch\n",
    "average pay for transcriptionist\n",
    "'''"
   ]
  },
  {
   "cell_type": "code",
   "execution_count": null,
   "metadata": {
    "collapsed": true
   },
   "outputs": [],
   "source": [
    ""
   ]
  }
 ],
 "metadata": {
  "kernelspec": {
   "display_name": "Python 2",
   "language": "python",
   "name": "python2"
  },
  "language_info": {
   "codemirror_mode": {
    "name": "ipython",
    "version": 2.0
   },
   "file_extension": ".py",
   "mimetype": "text/x-python",
   "name": "python",
   "nbconvert_exporter": "python",
   "pygments_lexer": "ipython2",
   "version": "2.7.12"
  }
 },
 "nbformat": 4,
 "nbformat_minor": 0
}